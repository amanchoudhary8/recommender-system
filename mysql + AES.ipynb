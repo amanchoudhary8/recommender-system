{
 "cells": [
  {
   "cell_type": "code",
   "execution_count": 1,
   "id": "4481bb1c",
   "metadata": {},
   "outputs": [],
   "source": [
    "import pandas as pd\n",
    "import pandas.io.sql as sql\n",
    "from pandas import *\n",
    "import matplotlib.pyplot as plt\n",
    "import numpy as np\n",
    "from sklearn import datasets, linear_model\n",
    "from sklearn.ensemble import ExtraTreesClassifier\n",
    "from sklearn.preprocessing import StandardScaler, RobustScaler\n",
    "from sklearn.neighbors import KNeighborsClassifier\n",
    "from sklearn import metrics\n",
    "from sklearn.cluster import KMeans\n",
    "from sklearn.datasets import load_digits\n",
    "from sklearn.decomposition import PCA\n",
    "from sklearn.preprocessing import scale\n",
    "import numpy as np\n",
    "from scipy.cluster.vq import kmeans,vq\n",
    "from scipy.spatial.distance import cdist\n",
    "import matplotlib.pyplot as plt\n",
    "import pandas as pd\n",
    "import sklearn.metrics as sm\n",
    "from matplotlib import pyplot\n",
    "from sklearn.cluster import KMeans\n",
    "from scipy import cluster\n",
    "import mysql.connector"
   ]
  },
  {
   "cell_type": "code",
   "execution_count": 2,
   "id": "32499b7d",
   "metadata": {},
   "outputs": [
    {
     "name": "stdout",
     "output_type": "stream",
     "text": [
      "successful\n"
     ]
    }
   ],
   "source": [
    "db1 = mysql.connector.connect(user=\"root\", password=\"Amankumarjha@1234\", host=\"localhost\", port=3306, database='patient')\n",
    "print(\"successful\")"
   ]
  },
  {
   "cell_type": "code",
   "execution_count": 3,
   "id": "cc66dcfd",
   "metadata": {},
   "outputs": [],
   "source": [
    "cur = db1.cursor()"
   ]
  },
  {
   "cell_type": "code",
   "execution_count": 5,
   "id": "ef2a423e",
   "metadata": {},
   "outputs": [
    {
     "name": "stdout",
     "output_type": "stream",
     "text": [
      "Enter your age:50\n",
      "Enter your gender(F/M):M\n",
      "Enter your blood group(A,B,AB,O):A\n",
      "Enter your blood sugar level:500\n",
      "Enter your food:oreo\n",
      "Enter amount of food(gms):500\n"
     ]
    }
   ],
   "source": [
    "#Input age, gender,bloodgroup, blood sugar level, food and amount of to be consumed by the user\n",
    "age=input(\"Enter your age:\")\n",
    "gender= input(\"Enter your gender(F/M):\")\n",
    "bloodgroup= input(\"Enter your blood group(A,B,AB,O):\")\n",
    "sugarlevel= input(\"Enter your blood sugar level:\")\n",
    "food=input(\"Enter your food:\")\n",
    "serving=input(\"Enter amount of food(gms):\")"
   ]
  },
  {
   "cell_type": "code",
   "execution_count": 8,
   "id": "48907e23",
   "metadata": {},
   "outputs": [],
   "source": [
    "s = \"INSERT INTO details VALUES(%s, AES_ENCRYPT(%s, 'key'), AES_ENCRYPT(%s, 'key'), AES_ENCRYPT(%s, 'key'), AES_ENCRYPT(%s, 'key'), AES_ENCRYPT(%s, 'key'))\"\n",
    "t = (age, gender, bloodgroup, sugarlevel, food, serving)\n",
    "cur.execute(s, t)\n",
    "db1.commit()"
   ]
  },
  {
   "cell_type": "code",
   "execution_count": null,
   "id": "e5170248",
   "metadata": {},
   "outputs": [],
   "source": []
  }
 ],
 "metadata": {
  "kernelspec": {
   "display_name": "Python 3",
   "language": "python",
   "name": "python3"
  },
  "language_info": {
   "codemirror_mode": {
    "name": "ipython",
    "version": 3
   },
   "file_extension": ".py",
   "mimetype": "text/x-python",
   "name": "python",
   "nbconvert_exporter": "python",
   "pygments_lexer": "ipython3",
   "version": "3.8.8"
  }
 },
 "nbformat": 4,
 "nbformat_minor": 5
}
